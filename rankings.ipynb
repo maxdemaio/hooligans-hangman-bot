{
  "cells": [
    {
      "cell_type": "code",
      "execution_count": 1,
      "metadata": {
        "id": "dy8n4bHAQyS5"
      },
      "outputs": [],
      "source": [
        "import pandas as pd\n",
        "import seaborn as sns\n",
        "import matplotlib.pyplot as plt\n",
        "\n",
        "scores_dict: dict = {\n",
        "    \"a\": 1,\n",
        "    \"e\": 1,\n",
        "    \"l\": 1,\n",
        "    \"i\": 1,\n",
        "    \"n\": 1,\n",
        "    \"o\": 1,\n",
        "    \"r\": 1,\n",
        "    \"s\": 1,\n",
        "    \"t\": 1,\n",
        "    \"u\": 1,\n",
        "    \"d\": 2,\n",
        "    \"g\": 2,\n",
        "    \"b\": 3,\n",
        "    \"c\": 3,\n",
        "    \"m\": 3,\n",
        "    \"p\": 3,\n",
        "    \"f\": 4,\n",
        "    \"h\": 4,\n",
        "    \"v\": 4,\n",
        "    \"w\": 4,\n",
        "    \"y\": 4,\n",
        "    \"k\": 5,\n",
        "    \"j\": 8,\n",
        "    \"x\": 8,\n",
        "    \"q\": 10,\n",
        "    \"z\": 10\n",
        "}\n",
        "\n",
        "scores_list = []\n",
        "with open(\"words.txt\", \"r\") as word_file:\n",
        "    for line in word_file:\n",
        "        word = line.strip()\n",
        "            \n",
        "        # get the score for the current word\n",
        "        score = 0\n",
        "        for letter in word:\n",
        "            score += scores_dict[letter]\n",
        "        scores_list.append(score)"
      ]
    },
    {
      "cell_type": "code",
      "execution_count": 12,
      "metadata": {
        "colab": {
          "base_uri": "https://localhost:8080/",
          "height": 285
        },
        "id": "-9kv6BpbSTm4",
        "outputId": "6ac2c24c-e8bd-4631-8e7b-0b71d34e14f4"
      },
      "outputs": [
        {
          "data": {
            "image/png": "[encoded data removed]",
            "text/plain": [
              "<Figure size 432x288 with 1 Axes>"
            ]
          },
          "metadata": {},
          "output_type": "display_data"
        }
      ],
      "source": [
        "sns.set_theme(style=\"darkgrid\")\n",
        "sns.histplot(data=scores_list, binwidth=1)\n",
        "plt.xlabel(\"Scores\")\n",
        "plt.ylabel(\"Frequency\")\n",
        "plt.show()"
      ]
    }
  ],
  "metadata": {
    "colab": {
      "provenance": []
    },
    "kernelspec": {
      "display_name": "venv",
      "language": "python",
      "name": "python3"
    },
    "language_info": {
      "name": "python",
      "version": "3.9.6 (default, Sep 26 2022, 11:37:49) \n[Clang 14.0.0 (clang-1400.0.29.202)]"
    },
    "vscode": {
      "interpreter": {
        "hash": "13f36fb1bc3ca06af653ecfa74f15a8ac5a018e3bea1b0db47a7143e68026858"
      }
    }
  },
  "nbformat": 4,
  "nbformat_minor": 0
}
